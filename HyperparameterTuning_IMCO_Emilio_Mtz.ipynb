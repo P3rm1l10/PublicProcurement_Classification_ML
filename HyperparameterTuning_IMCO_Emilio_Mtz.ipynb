{
 "cells": [
  {
   "cell_type": "code",
   "execution_count": 15,
   "metadata": {},
   "outputs": [],
   "source": [
    "import pandas as pd\n",
    "import numpy as np\n",
    "from sklearn import model_selection\n",
    "from sklearn.metrics import classification_report, confusion_matrix, roc_auc_score, accuracy_score\n",
    "from sklearn.ensemble import RandomForestClassifier\n",
    "from sklearn.model_selection import RandomizedSearchCV\n",
    "from sklearn.preprocessing import StandardScaler\n",
    "import matplotlib.pyplot as plt\n",
    "import seaborn as sns\n",
    "from scipy import stats\n",
    "from scipy.stats import randint\n",
    "from sklearn.ensemble import ExtraTreesClassifier\n",
    "from sklearn.ensemble import AdaBoostClassifier\n",
    "from sklearn import svm\n",
    "from sklearn.svm import SVC\n",
    "import pandas as pd\n",
    "from sklearn.neural_network import MLPClassifier\n",
    "from sklearn.naive_bayes import GaussianNB\n",
    "from sklearn.model_selection import train_test_split\n",
    "import scipy\n",
    "from sklearn.neighbors import KNeighborsClassifier\n",
    "from sklearn.ensemble import RandomForestClassifier\n",
    "\n",
    "from imblearn import under_sampling, over_sampling\n",
    "from imblearn.over_sampling import SMOTE\n"
   ]
  },
  {
   "cell_type": "code",
   "execution_count": 16,
   "metadata": {},
   "outputs": [],
   "source": [
    "#Descarga de los datos\n",
    "DataIMCO_N = pd.read_csv(\"IMCO_N.csv\",low_memory=False)\n",
    "DataIMCO_PR = pd.read_csv(\"IMCO_PreRed.csv\",low_memory=False)\n"
   ]
  },
  {
   "cell_type": "code",
   "execution_count": 17,
   "metadata": {},
   "outputs": [
    {
     "name": "stdout",
     "output_type": "stream",
     "text": [
      "(667316, 47)\n",
      "(667316, 61)\n"
     ]
    }
   ],
   "source": [
    "print(DataIMCO_N.shape)\n",
    "print(DataIMCO_PR.shape)"
   ]
  },
  {
   "cell_type": "code",
   "execution_count": 20,
   "metadata": {},
   "outputs": [],
   "source": [
    "\n",
    "DataIMCO_N = DataIMCO_N.drop(['Unnamed: 0'], axis=1)\n",
    "DataIMCO_PR = DataIMCO_PR.drop(['Unnamed: 0'], axis=1)\n",
    "\n",
    "\n",
    "X_n = DataIMCO_N.drop('Status',axis=1)\n",
    "y_n = DataIMCO_N['Status']\n",
    "\n",
    "X_trainn, X_testn, y_trainn, y_testn = train_test_split(X_n, y_n, test_size=0.3)\n",
    "\n",
    "smote = SMOTE(random_state=17)\n",
    "\n",
    "X_trainn, y_trainn = smote.fit_resample(X_trainn, y_trainn)\n",
    "#X_testn, y_testn = smote.fit_resample(X_testn,y_testn)\n",
    "\n",
    "\n",
    "X_r = DataIMCO_PR.drop('Status',axis=1)\n",
    "y_r = DataIMCO_PR['Status']\n",
    "\n",
    "X_trainp, X_testp, y_trainp, y_testp = train_test_split(X_r, y_r, test_size=0.3)\n",
    "\n",
    "smote = SMOTE(random_state=17)\n",
    "\n",
    "X_trainp, y_trainp = smote.fit_resample(X_trainp, y_trainp)\n",
    "#X_testp, y_testp = smote.fit_resample(X_testp,y_testp)"
   ]
  },
  {
   "cell_type": "code",
   "execution_count": 21,
   "metadata": {},
   "outputs": [
    {
     "name": "stdout",
     "output_type": "stream",
     "text": [
      "(667316, 46)\n",
      "(667316, 60)\n"
     ]
    }
   ],
   "source": [
    "print(DataIMCO_N.shape)\n",
    "print(DataIMCO_PR.shape)"
   ]
  },
  {
   "cell_type": "code",
   "execution_count": 22,
   "metadata": {},
   "outputs": [
    {
     "name": "stdout",
     "output_type": "stream",
     "text": [
      "(932624,)\n",
      "(200195,)\n"
     ]
    }
   ],
   "source": [
    "print(y_trainp.shape)\n",
    "print(y_testp.shape)"
   ]
  },
  {
   "cell_type": "code",
   "execution_count": 23,
   "metadata": {},
   "outputs": [
    {
     "name": "stdout",
     "output_type": "stream",
     "text": [
      "(932614,)\n",
      "(200195,)\n"
     ]
    }
   ],
   "source": [
    "print(y_trainn.shape)\n",
    "print(y_testn.shape)"
   ]
  },
  {
   "cell_type": "code",
   "execution_count": 24,
   "metadata": {},
   "outputs": [
    {
     "name": "stdout",
     "output_type": "stream",
     "text": [
      "0    466307\n",
      "1    466307\n",
      "Name: Status, dtype: int64\n",
      "0    199882\n",
      "1       313\n",
      "Name: Status, dtype: int64\n"
     ]
    }
   ],
   "source": [
    "print(y_trainn.value_counts())\n",
    "print(y_testn.value_counts())"
   ]
  },
  {
   "cell_type": "code",
   "execution_count": 25,
   "metadata": {},
   "outputs": [
    {
     "name": "stdout",
     "output_type": "stream",
     "text": [
      "0    466312\n",
      "1    466312\n",
      "Name: Status, dtype: int64\n",
      "0    199877\n",
      "1       318\n",
      "Name: Status, dtype: int64\n"
     ]
    }
   ],
   "source": [
    "print(y_trainp.value_counts())\n",
    "print(y_testp.value_counts())"
   ]
  },
  {
   "attachments": {},
   "cell_type": "markdown",
   "metadata": {},
   "source": [
    "# Paqueterias"
   ]
  },
  {
   "attachments": {},
   "cell_type": "markdown",
   "metadata": {},
   "source": [
    "## Random Forest"
   ]
  },
  {
   "attachments": {},
   "cell_type": "markdown",
   "metadata": {},
   "source": [
    "### IMCO"
   ]
  },
  {
   "cell_type": "code",
   "execution_count": 26,
   "metadata": {},
   "outputs": [
    {
     "name": "stdout",
     "output_type": "stream",
     "text": [
      "RANDOM FOREST NORMAL DATA\n",
      "TEST PERFORMANCE\n",
      "------------------------------------------------------------\n",
      "              precision    recall  f1-score   support\n",
      "\n",
      "           0       1.00      1.00      1.00    199882\n",
      "           1       0.13      0.09      0.11       313\n",
      "\n",
      "    accuracy                           1.00    200195\n",
      "   macro avg       0.56      0.54      0.55    200195\n",
      "weighted avg       1.00      1.00      1.00    200195\n",
      "\n",
      "CONFUSION MATRIX\n",
      "[[199691    191]\n",
      " [   285     28]]\n",
      "------------------------------------------------------------\n",
      "ROC_AUC_SCORE\n",
      "------------------------------------------------------------\n",
      "0.5442506526134765\n"
     ]
    }
   ],
   "source": [
    "{'n_estimators': 4000, 'min_samples_split': 10, 'min_samples_leaf': 2, 'max_features': 'sqrt', 'max_depth': 80, 'bootstrap': False}\n",
    "IMCO_rf_norm = RandomForestClassifier(n_estimators=4000,\n",
    "                                      min_samples_split=10,\n",
    "                                      min_samples_leaf=2,\n",
    "                                      max_features='sqrt',\n",
    "                                      max_depth=80,\n",
    "                                      bootstrap=False)\n",
    "IMCO_rf_norm.fit(X_trainn,y_trainn)\n",
    "IMCOy_pred_rand_norm = IMCO_rf_norm.predict(X_testn)\n",
    "\n",
    "print('RANDOM FOREST NORMAL DATA')\n",
    "print('TEST PERFORMANCE')\n",
    "print('------------------------------------------------------------')\n",
    "print(classification_report(y_testn,IMCOy_pred_rand_norm))\n",
    "print('CONFUSION MATRIX')\n",
    "print(confusion_matrix(y_testn, IMCOy_pred_rand_norm))\n",
    "print('------------------------------------------------------------')\n",
    "print('ROC_AUC_SCORE')\n",
    "print('------------------------------------------------------------')\n",
    "print(roc_auc_score(y_testn, IMCOy_pred_rand_norm))\n"
   ]
  },
  {
   "cell_type": "code",
   "execution_count": null,
   "metadata": {},
   "outputs": [],
   "source": [
    "feat_importances_norm = pd.Series(IMCO_rf_norm.feature_importances_, index=X_trainn.columns)\n",
    "feat_importances_norm.nlargest(10).plot(kind='barh')"
   ]
  },
  {
   "cell_type": "code",
   "execution_count": 27,
   "metadata": {},
   "outputs": [
    {
     "name": "stdout",
     "output_type": "stream",
     "text": [
      "RANDOM FOREST RED FLAG DATA\n",
      "TEST PERFORMANCE\n",
      "------------------------------------------------------------\n",
      "              precision    recall  f1-score   support\n",
      "\n",
      "           0       1.00      1.00      1.00    199877\n",
      "           1       1.00      0.70      0.82       318\n",
      "\n",
      "    accuracy                           1.00    200195\n",
      "   macro avg       1.00      0.85      0.91    200195\n",
      "weighted avg       1.00      1.00      1.00    200195\n",
      "\n",
      "CONFUSION MATRIX\n",
      "[[199877      0]\n",
      " [    96    222]]\n",
      "------------------------------------------------------------\n",
      "ROC_AUC_SCORE\n",
      "------------------------------------------------------------\n",
      "0.8490566037735849\n"
     ]
    }
   ],
   "source": [
    "# {'n_estimators': 2500, 'min_samples_split': 5, 'min_samples_leaf': 2, 'max_features': 'sqrt', 'max_depth': 50, 'bootstrap': False}\n",
    "IMCO_rf_red = RandomForestClassifier(n_estimators=4000,\n",
    "                                      min_samples_split=5,\n",
    "                                      min_samples_leaf=2,\n",
    "                                      max_features='sqrt',\n",
    "                                      max_depth=50,\n",
    "                                      bootstrap=False)\n",
    "IMCO_rf_red.fit(X_trainp,y_trainp)\n",
    "IMCOy_pred_rand_red = IMCO_rf_red.predict(X_testp)\n",
    "\n",
    "\n",
    "print('RANDOM FOREST RED FLAG DATA')\n",
    "print('TEST PERFORMANCE')\n",
    "print('------------------------------------------------------------')\n",
    "print(classification_report(y_testp,IMCOy_pred_rand_red))\n",
    "print('CONFUSION MATRIX')\n",
    "print(confusion_matrix(y_testp, IMCOy_pred_rand_red))\n",
    "print('------------------------------------------------------------')\n",
    "print('ROC_AUC_SCORE')\n",
    "print('------------------------------------------------------------')\n",
    "print(roc_auc_score(y_testp, IMCOy_pred_rand_red))\n",
    "\n"
   ]
  },
  {
   "cell_type": "code",
   "execution_count": null,
   "metadata": {},
   "outputs": [],
   "source": [
    "\n",
    "feat_importances_red = pd.Series(IMCO_rf_red.feature_importances_, index=X_trainp.columns)\n",
    "feat_importances_red.nlargest(10).plot(kind='barh')"
   ]
  },
  {
   "attachments": {},
   "cell_type": "markdown",
   "metadata": {},
   "source": [
    "# XGBOOSTCLASSIFIER"
   ]
  },
  {
   "cell_type": "code",
   "execution_count": 37,
   "metadata": {},
   "outputs": [
    {
     "name": "stdout",
     "output_type": "stream",
     "text": [
      "Requirement already satisfied: xgboost in c:\\users\\permi\\anaconda3\\lib\\site-packages (1.7.6)\n",
      "Requirement already satisfied: scipy in c:\\users\\permi\\anaconda3\\lib\\site-packages (from xgboost) (1.10.0)\n",
      "Requirement already satisfied: numpy in c:\\users\\permi\\anaconda3\\lib\\site-packages (from xgboost) (1.23.5)\n"
     ]
    }
   ],
   "source": [
    "import sys\n",
    "\n",
    "!{sys.executable} -m pip install xgboost\n",
    "from xgboost import XGBClassifier"
   ]
  },
  {
   "cell_type": "code",
   "execution_count": 38,
   "metadata": {},
   "outputs": [
    {
     "name": "stdout",
     "output_type": "stream",
     "text": [
      "XGBOOST CLASSIFIER NORMAL DATA\n",
      "TEST PERFORMANCE\n",
      "------------------------------------------------------------\n",
      "              precision    recall  f1-score   support\n",
      "\n",
      "           0       1.00      1.00      1.00    199882\n",
      "           1       0.11      0.05      0.07       313\n",
      "\n",
      "    accuracy                           1.00    200195\n",
      "   macro avg       0.55      0.52      0.53    200195\n",
      "weighted avg       1.00      1.00      1.00    200195\n",
      "\n",
      "CONFUSION MATRIX\n",
      "[[199762    120]\n",
      " [   298     15]]\n",
      "------------------------------------------------------------\n",
      "ROC_AUC_SCORE\n",
      "------------------------------------------------------------\n",
      "0.5236614842373615\n"
     ]
    }
   ],
   "source": [
    "# {'subsample': 0.9, 'n_estimators': 300, 'max_depth': 11, 'learning_rate': 0.1}\n",
    "\n",
    "IMCO_XGBC_norm = XGBClassifier(subsample=0.9,\n",
    "                          n_estimators=300,\n",
    "                          max_depth=11,\n",
    "                          learning_rate=0.1)\n",
    "\n",
    "IMCO_XGBC_norm.fit(X_trainn, y_trainn)\n",
    "\n",
    "IMCO_pred_xgbc_norm = IMCO_XGBC_norm.predict(X_testn)\n",
    "\n",
    "print('XGBOOST CLASSIFIER NORMAL DATA')\n",
    "print('TEST PERFORMANCE')\n",
    "print('------------------------------------------------------------')\n",
    "print(classification_report(y_testn, IMCO_pred_xgbc_norm))\n",
    "print('CONFUSION MATRIX')\n",
    "print(confusion_matrix(y_testn, IMCO_pred_xgbc_norm))\n",
    "print('------------------------------------------------------------')\n",
    "print('ROC_AUC_SCORE')\n",
    "print('------------------------------------------------------------')\n",
    "print(roc_auc_score(y_testn, IMCO_pred_xgbc_norm))"
   ]
  },
  {
   "cell_type": "code",
   "execution_count": 39,
   "metadata": {},
   "outputs": [
    {
     "name": "stdout",
     "output_type": "stream",
     "text": [
      "XGBOOST CLASSIFIER PREPROCESSED & RED DATA\n",
      "TEST PERFORMANCE\n",
      "------------------------------------------------------------\n",
      "              precision    recall  f1-score   support\n",
      "\n",
      "           0       1.00      1.00      1.00    199877\n",
      "           1       1.00      0.86      0.92       318\n",
      "\n",
      "    accuracy                           1.00    200195\n",
      "   macro avg       1.00      0.93      0.96    200195\n",
      "weighted avg       1.00      1.00      1.00    200195\n",
      "\n",
      "CONFUSION MATRIX\n",
      "[[199876      1]\n",
      " [    44    274]]\n",
      "------------------------------------------------------------\n",
      "ROC_AUC_SCORE\n",
      "------------------------------------------------------------\n",
      "0.9308151085244469\n"
     ]
    }
   ],
   "source": [
    "# {'subsample': 0.8, 'n_estimators': 150, 'max_depth': 11, 'learning_rate': 0.1}\n",
    "IMCO_XGBC_red = XGBClassifier(subsample=0.8,\n",
    "                          n_estimators=300,\n",
    "                          max_depth=11,\n",
    "                          learning_rate=0.1)\n",
    "\n",
    "\n",
    "IMCO_XGBC_red.fit(X_trainp, y_trainp)\n",
    "\n",
    "IMCO_pred_xgbc_red = IMCO_XGBC_red.predict(X_testp)\n",
    "\n",
    "print('XGBOOST CLASSIFIER PREPROCESSED & RED DATA')\n",
    "print('TEST PERFORMANCE')\n",
    "print('------------------------------------------------------------')\n",
    "print(classification_report(y_testp, IMCO_pred_xgbc_red))\n",
    "print('CONFUSION MATRIX')\n",
    "print(confusion_matrix(y_testp, IMCO_pred_xgbc_red))\n",
    "print('------------------------------------------------------------')\n",
    "print('ROC_AUC_SCORE')\n",
    "print('------------------------------------------------------------')\n",
    "print(roc_auc_score(y_testp, IMCO_pred_xgbc_red))\n"
   ]
  },
  {
   "attachments": {},
   "cell_type": "markdown",
   "metadata": {},
   "source": [
    "#  EXTRATREESCLASSIFIER"
   ]
  },
  {
   "cell_type": "code",
   "execution_count": 40,
   "metadata": {},
   "outputs": [
    {
     "name": "stdout",
     "output_type": "stream",
     "text": [
      "EXTRATREESCLASSIFIER NORMAL DATA\n",
      "TEST PERFORMANCE\n",
      "------------------------------------------------------------\n",
      "              precision    recall  f1-score   support\n",
      "\n",
      "           0       1.00      1.00      1.00    199882\n",
      "           1       0.08      0.09      0.09       313\n",
      "\n",
      "    accuracy                           1.00    200195\n",
      "   macro avg       0.54      0.55      0.54    200195\n",
      "weighted avg       1.00      1.00      1.00    200195\n",
      "\n",
      "CONFUSION MATRIX\n",
      "[[199545    337]\n",
      " [   284     29]]\n",
      "------------------------------------------------------------\n",
      "ROC_AUC_SCORE\n",
      "------------------------------------------------------------\n",
      "0.5454828812258018\n"
     ]
    }
   ],
   "source": [
    "\n",
    "# {'n_estimators': 500, 'min_samples_split': 2, 'min_samples_leaf': 1, 'max_depth': None}\n",
    "IMCO_ETC_norm = ExtraTreesClassifier(n_estimators=500,\n",
    "                                     min_samples_split=2,\n",
    "                                     min_samples_leaf=1,\n",
    "                                     max_depth=None)\n",
    "\n",
    "IMCO_ETC_norm.fit(X_trainn, y_trainn)\n",
    "\n",
    "IMCO_pred_etc_norm = IMCO_ETC_norm.predict(X_testn)\n",
    "\n",
    "print('EXTRATREESCLASSIFIER NORMAL DATA')\n",
    "print('TEST PERFORMANCE')\n",
    "print('------------------------------------------------------------')\n",
    "print(classification_report(y_testn, IMCO_pred_etc_norm))\n",
    "print('CONFUSION MATRIX')\n",
    "print(confusion_matrix(y_testn, IMCO_pred_etc_norm))\n",
    "print('------------------------------------------------------------')\n",
    "print('ROC_AUC_SCORE')\n",
    "print('------------------------------------------------------------')\n",
    "print(roc_auc_score(y_testn, IMCO_pred_etc_norm))"
   ]
  },
  {
   "cell_type": "code",
   "execution_count": 41,
   "metadata": {},
   "outputs": [
    {
     "name": "stdout",
     "output_type": "stream",
     "text": [
      "EXTRATREESCLASSIFIER REDFLAGS DATA\n",
      "TEST PERFORMANCE\n",
      "------------------------------------------------------------\n",
      "              precision    recall  f1-score   support\n",
      "\n",
      "           0       1.00      1.00      1.00    199877\n",
      "           1       1.00      0.64      0.78       318\n",
      "\n",
      "    accuracy                           1.00    200195\n",
      "   macro avg       1.00      0.82      0.89    200195\n",
      "weighted avg       1.00      1.00      1.00    200195\n",
      "\n",
      "CONFUSION MATRIX\n",
      "[[199877      0]\n",
      " [   116    202]]\n",
      "------------------------------------------------------------\n",
      "ROC_AUC_SCORE\n",
      "------------------------------------------------------------\n",
      "0.8176100628930818\n"
     ]
    }
   ],
   "source": [
    "# {'n_estimators': 500, 'min_samples_split': 10, 'min_samples_leaf': 1, 'max_depth': None}\n",
    "\n",
    "IMCO_ETC_red = ExtraTreesClassifier(n_estimators=500,\n",
    "                                     min_samples_split=10,\n",
    "                                     min_samples_leaf=1,\n",
    "                                     max_depth=None)\n",
    "\n",
    "IMCO_ETC_red.fit(X_trainp, y_trainp)\n",
    "\n",
    "IMCO_pred_etc_red = IMCO_ETC_red.predict(X_testp)\n",
    "\n",
    "print('EXTRATREESCLASSIFIER REDFLAGS DATA')\n",
    "print('TEST PERFORMANCE')\n",
    "print('------------------------------------------------------------')\n",
    "print(classification_report(y_testp, IMCO_pred_etc_red))\n",
    "print('CONFUSION MATRIX')\n",
    "print(confusion_matrix(y_testp, IMCO_pred_etc_red))\n",
    "print('------------------------------------------------------------')\n",
    "print('ROC_AUC_SCORE')\n",
    "print('------------------------------------------------------------')\n",
    "print(roc_auc_score(y_testp, IMCO_pred_etc_red))"
   ]
  },
  {
   "attachments": {},
   "cell_type": "markdown",
   "metadata": {},
   "source": [
    "# MULTILAYER PERCEPTRON"
   ]
  },
  {
   "cell_type": "code",
   "execution_count": 42,
   "metadata": {},
   "outputs": [
    {
     "name": "stdout",
     "output_type": "stream",
     "text": [
      "MLP NORMAL DATA\n",
      "TEST PERFORMANCE\n",
      "------------------------------------------------------------\n",
      "              precision    recall  f1-score   support\n",
      "\n",
      "           0       1.00      0.79      0.88    199882\n",
      "           1       0.00      0.61      0.01       313\n",
      "\n",
      "    accuracy                           0.79    200195\n",
      "   macro avg       0.50      0.70      0.44    200195\n",
      "weighted avg       1.00      0.79      0.88    200195\n",
      "\n",
      "CONFUSION MATRIX\n",
      "[[157092  42790]\n",
      " [   122    191]]\n",
      "------------------------------------------------------------\n",
      "ROC_AUC_SCORE\n",
      "------------------------------------------------------------\n",
      "0.6980736685762811\n"
     ]
    }
   ],
   "source": [
    "# {'solver': 'adam', 'max_iter': 300, 'learning_rate': 'adaptive', 'hidden_layer_sizes': (100,), 'alpha': 0.001, 'activation': 'relu'}\n",
    "IMCO_MLP_norm = MLPClassifier(solver='adam',\n",
    "                    max_iter=300,\n",
    "                    learning_rate='adaptive',\n",
    "                    hidden_layer_sizes=(100,),\n",
    "                    alpha=0.001,\n",
    "                    activation='relu')\n",
    "\n",
    "# Perform randomized search with cross-validation\n",
    "\n",
    "IMCO_MLP_norm.fit(X_trainn, y_trainn)\n",
    "\n",
    "IMCO_pred_mlpc_norm = IMCO_MLP_norm.predict(X_testn)\n",
    "\n",
    "print('MLP NORMAL DATA')\n",
    "print('TEST PERFORMANCE')\n",
    "print('------------------------------------------------------------')\n",
    "print(classification_report(y_testn, IMCO_pred_mlpc_norm))\n",
    "print('CONFUSION MATRIX')\n",
    "print(confusion_matrix(y_testn, IMCO_pred_mlpc_norm))\n",
    "print('------------------------------------------------------------')\n",
    "print('ROC_AUC_SCORE')\n",
    "print('------------------------------------------------------------')\n",
    "print(roc_auc_score(y_testn, IMCO_pred_mlpc_norm))"
   ]
  },
  {
   "cell_type": "code",
   "execution_count": 43,
   "metadata": {},
   "outputs": [
    {
     "name": "stdout",
     "output_type": "stream",
     "text": [
      "MLP REDFLAGS DATA\n",
      "TEST PERFORMANCE\n",
      "------------------------------------------------------------\n",
      "              precision    recall  f1-score   support\n",
      "\n",
      "           0       1.00      0.27      0.43    199877\n",
      "           1       0.00      0.87      0.00       318\n",
      "\n",
      "    accuracy                           0.27    200195\n",
      "   macro avg       0.50      0.57      0.22    200195\n",
      "weighted avg       1.00      0.27      0.43    200195\n",
      "\n",
      "CONFUSION MATRIX\n",
      "[[ 54617 145260]\n",
      " [    40    278]]\n",
      "------------------------------------------------------------\n",
      "ROC_AUC_SCORE\n",
      "------------------------------------------------------------\n",
      "0.5737334435520612\n"
     ]
    }
   ],
   "source": [
    "# {'solver': 'adam', 'max_iter': 100, 'learning_rate': 'adaptive', 'hidden_layer_sizes': (100, 50), 'alpha': 0.001, 'activation': 'logistic'}\n",
    "\n",
    "IMCO_MLP_red = MLPClassifier(solver='adam',\n",
    "                    max_iter=300,\n",
    "                    learning_rate='adaptive',\n",
    "                    hidden_layer_sizes=(100,50),\n",
    "                    alpha=0.001,\n",
    "                    activation='logistic')\n",
    "\n",
    "# Perform randomized search with cross-validation\n",
    "\n",
    "IMCO_MLP_red.fit(X_trainp, y_trainp)\n",
    "\n",
    "IMCO_pred_mlpc_red = IMCO_MLP_red.predict(X_testp)\n",
    "\n",
    "print('MLP REDFLAGS DATA')\n",
    "print('TEST PERFORMANCE')\n",
    "print('------------------------------------------------------------')\n",
    "print(classification_report(y_testp, IMCO_pred_mlpc_red))\n",
    "print('CONFUSION MATRIX')\n",
    "print(confusion_matrix(y_testp, IMCO_pred_mlpc_red))\n",
    "print('------------------------------------------------------------')\n",
    "print('ROC_AUC_SCORE')\n",
    "print('------------------------------------------------------------')\n",
    "print(roc_auc_score(y_testp, IMCO_pred_mlpc_red))\n"
   ]
  },
  {
   "attachments": {},
   "cell_type": "markdown",
   "metadata": {},
   "source": [
    "# NAIVE BAYES"
   ]
  },
  {
   "cell_type": "code",
   "execution_count": 44,
   "metadata": {},
   "outputs": [
    {
     "name": "stdout",
     "output_type": "stream",
     "text": [
      "NAIVE BAYES CLASSIFIER NORMAL DATA\n",
      "TEST PERFORMANCE\n",
      "------------------------------------------------------------\n",
      "              precision    recall  f1-score   support\n",
      "\n",
      "           0       1.00      0.01      0.02    199882\n",
      "           1       0.00      0.98      0.00       313\n",
      "\n",
      "    accuracy                           0.01    200195\n",
      "   macro avg       0.50      0.50      0.01    200195\n",
      "weighted avg       1.00      0.01      0.02    200195\n",
      "\n",
      "CONFUSION MATRIX\n",
      "[[  2398 197484]\n",
      " [     6    307]]\n",
      "------------------------------------------------------------\n",
      "ROC_AUC_SCORE\n",
      "------------------------------------------------------------\n",
      "0.4964138746013502\n"
     ]
    }
   ],
   "source": [
    "# 'var_smoothing': 8.111308307896872e-05\n",
    "IMCO_NBclass_norm = GaussianNB(var_smoothing=8.111308307896872e-05)\n",
    "\n",
    "IMCO_NBclass_norm.fit(X_trainn, y_trainn)\n",
    "\n",
    "IMCO_pred_nbclass_norm = IMCO_NBclass_norm.predict(X_testn)\n",
    "\n",
    "print('NAIVE BAYES CLASSIFIER NORMAL DATA')\n",
    "print('TEST PERFORMANCE')\n",
    "print('------------------------------------------------------------')\n",
    "print(classification_report(y_testn, IMCO_pred_nbclass_norm))\n",
    "print('CONFUSION MATRIX')\n",
    "print(confusion_matrix(y_testn, IMCO_pred_nbclass_norm))\n",
    "print('------------------------------------------------------------')\n",
    "print('ROC_AUC_SCORE')\n",
    "print('------------------------------------------------------------')\n",
    "print(roc_auc_score(y_testn, IMCO_pred_nbclass_norm))"
   ]
  },
  {
   "cell_type": "code",
   "execution_count": 45,
   "metadata": {},
   "outputs": [
    {
     "name": "stdout",
     "output_type": "stream",
     "text": [
      "NAIVE BAYES CLASSIFIER NORMAL DATA\n",
      "TEST PERFORMANCE\n",
      "------------------------------------------------------------\n",
      "              precision    recall  f1-score   support\n",
      "\n",
      "           0       1.00      0.10      0.18    199877\n",
      "           1       0.00      0.97      0.00       318\n",
      "\n",
      "    accuracy                           0.10    200195\n",
      "   macro avg       0.50      0.54      0.09    200195\n",
      "weighted avg       1.00      0.10      0.18    200195\n",
      "\n",
      "CONFUSION MATRIX\n",
      "[[ 20219 179658]\n",
      " [     8    310]]\n",
      "------------------------------------------------------------\n",
      "ROC_AUC_SCORE\n",
      "------------------------------------------------------------\n",
      "0.537999989490392\n"
     ]
    }
   ],
   "source": [
    "# 'var_smoothing': 8.111308307896872e-05\n",
    "IMCO_NBclass_red = GaussianNB(var_smoothing=2.848035868435799e-08)\n",
    "\n",
    "IMCO_NBclass_red.fit(X_trainp, y_trainp)\n",
    "\n",
    "IMCO_pred_nbclass_red = IMCO_NBclass_red.predict(X_testp)\n",
    "\n",
    "print('NAIVE BAYES CLASSIFIER NORMAL DATA')\n",
    "print('TEST PERFORMANCE')\n",
    "print('------------------------------------------------------------')\n",
    "print(classification_report(y_testp, IMCO_pred_nbclass_red))\n",
    "print('CONFUSION MATRIX')\n",
    "print(confusion_matrix(y_testp, IMCO_pred_nbclass_red))\n",
    "print('------------------------------------------------------------')\n",
    "print('ROC_AUC_SCORE')\n",
    "print('------------------------------------------------------------')\n",
    "print(roc_auc_score(y_testp, IMCO_pred_nbclass_red))"
   ]
  },
  {
   "attachments": {},
   "cell_type": "markdown",
   "metadata": {},
   "source": [
    "# KNeighborsClassifier"
   ]
  },
  {
   "cell_type": "code",
   "execution_count": 47,
   "metadata": {},
   "outputs": [
    {
     "name": "stdout",
     "output_type": "stream",
     "text": [
      "NEAREST NEIGHBOR CLASSIFIER NORMAL DATA\n",
      "TEST PERFORMANCE\n",
      "------------------------------------------------------------\n",
      "              precision    recall  f1-score   support\n",
      "\n",
      "           0       1.00      0.83      0.91    199882\n",
      "           1       0.00      0.34      0.01       313\n",
      "\n",
      "    accuracy                           0.83    200195\n",
      "   macro avg       0.50      0.59      0.46    200195\n",
      "weighted avg       1.00      0.83      0.91    200195\n",
      "\n",
      "CONFUSION MATRIX\n",
      "[[166706  33176]\n",
      " [   206    107]]\n",
      "------------------------------------------------------------\n",
      "ROC_AUC_SCORE\n",
      "------------------------------------------------------------\n",
      "0.5879375540834268\n"
     ]
    }
   ],
   "source": [
    "# {'weights': 'uniform', 'n_neighbors': 1, 'metric': 'euclidean'}\n",
    "IMCO_knc_norm = KNeighborsClassifier(weights='uniform',\n",
    "                                n_neighbors=1,\n",
    "                                metric='euclidean')\n",
    "IMCO_knc_norm.fit(X_trainn, y_trainn)\n",
    "\n",
    "IMCO_pred_knc_norm = IMCO_knc_norm.predict(X_testn)\n",
    "\n",
    "print('NEAREST NEIGHBOR CLASSIFIER NORMAL DATA')\n",
    "print('TEST PERFORMANCE')\n",
    "print('------------------------------------------------------------')\n",
    "print(classification_report(y_testn, IMCO_pred_knc_norm))\n",
    "print('CONFUSION MATRIX')\n",
    "print(confusion_matrix(y_testn, IMCO_pred_knc_norm))\n",
    "print('------------------------------------------------------------')\n",
    "print('ROC_AUC_SCORE')\n",
    "print('------------------------------------------------------------')\n",
    "print(roc_auc_score(y_testn, IMCO_pred_knc_norm))"
   ]
  },
  {
   "cell_type": "code",
   "execution_count": 48,
   "metadata": {},
   "outputs": [
    {
     "name": "stdout",
     "output_type": "stream",
     "text": [
      "NEAREST NEIGHBOR CLASSIFIER NORMAL DATA\n",
      "TEST PERFORMANCE\n",
      "------------------------------------------------------------\n",
      "              precision    recall  f1-score   support\n",
      "\n",
      "           0       1.00      0.99      1.00    199877\n",
      "           1       0.15      0.81      0.25       318\n",
      "\n",
      "    accuracy                           0.99    200195\n",
      "   macro avg       0.57      0.90      0.62    200195\n",
      "weighted avg       1.00      0.99      0.99    200195\n",
      "\n",
      "CONFUSION MATRIX\n",
      "[[198416   1461]\n",
      " [    61    257]]\n",
      "------------------------------------------------------------\n",
      "ROC_AUC_SCORE\n",
      "------------------------------------------------------------\n",
      "0.9004333026446486\n"
     ]
    }
   ],
   "source": [
    "# {'weights': 'uniform', 'n_neighbors': 1, 'metric': 'euclidean'}\n",
    "IMCO_knc_red = KNeighborsClassifier(weights='uniform',\n",
    "                                n_neighbors=1,\n",
    "                                metric='euclidean')\n",
    "IMCO_knc_red.fit(X_trainp, y_trainp)\n",
    "\n",
    "IMCO_pred_knc_red = IMCO_knc_red.predict(X_testp)\n",
    "\n",
    "print('NEAREST NEIGHBOR CLASSIFIER NORMAL DATA')\n",
    "print('TEST PERFORMANCE')\n",
    "print('------------------------------------------------------------')\n",
    "print(classification_report(y_testp, IMCO_pred_knc_red))\n",
    "print('CONFUSION MATRIX')\n",
    "print(confusion_matrix(y_testp, IMCO_pred_knc_red))\n",
    "print('------------------------------------------------------------')\n",
    "print('ROC_AUC_SCORE')\n",
    "print('------------------------------------------------------------')\n",
    "print(roc_auc_score(y_testp, IMCO_pred_knc_red))"
   ]
  },
  {
   "attachments": {},
   "cell_type": "markdown",
   "metadata": {},
   "source": [
    "# LOGISTIC REGRESSION"
   ]
  },
  {
   "cell_type": "code",
   "execution_count": null,
   "metadata": {},
   "outputs": [],
   "source": [
    "IMVO_LR_norm = LogisticRegression()\n",
    "\n",
    "\n",
    "IMVO_LR_norm.fit(X_trainn, y_trainn)\n",
    "\n",
    "y_pred_lr_norm = IMVO_LR_norm.predict(X_testn)\n",
    "\n",
    "print(classification_report(y_pred_lr_norm,y_testn))\n"
   ]
  }
 ],
 "metadata": {
  "kernelspec": {
   "display_name": "base",
   "language": "python",
   "name": "python3"
  },
  "language_info": {
   "codemirror_mode": {
    "name": "ipython",
    "version": 3
   },
   "file_extension": ".py",
   "mimetype": "text/x-python",
   "name": "python",
   "nbconvert_exporter": "python",
   "pygments_lexer": "ipython3",
   "version": "3.10.9"
  },
  "orig_nbformat": 4
 },
 "nbformat": 4,
 "nbformat_minor": 2
}
