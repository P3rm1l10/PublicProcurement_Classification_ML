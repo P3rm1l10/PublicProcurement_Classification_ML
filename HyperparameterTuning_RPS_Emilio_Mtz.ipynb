{
 "cells": [
  {
   "cell_type": "code",
   "execution_count": 2,
   "metadata": {},
   "outputs": [],
   "source": [
    "import pandas as pd\n",
    "import numpy as np\n",
    "from sklearn import model_selection\n",
    "from sklearn.metrics import classification_report, confusion_matrix, roc_auc_score, accuracy_score\n",
    "from sklearn.ensemble import RandomForestClassifier\n",
    "from sklearn.model_selection import RandomizedSearchCV\n",
    "from sklearn.preprocessing import StandardScaler\n",
    "import matplotlib.pyplot as plt\n",
    "import seaborn as sns\n",
    "from scipy import stats\n",
    "from scipy.stats import randint\n",
    "from sklearn.ensemble import ExtraTreesClassifier\n",
    "from sklearn.ensemble import AdaBoostClassifier\n",
    "from sklearn import svm\n",
    "from sklearn.svm import SVC\n",
    "import pandas as pd\n",
    "from sklearn.neural_network import MLPClassifier\n",
    "from sklearn.naive_bayes import GaussianNB\n",
    "from sklearn.model_selection import train_test_split\n",
    "import scipy\n",
    "from sklearn.neighbors import KNeighborsClassifier\n",
    "from sklearn.ensemble import RandomForestClassifier\n",
    "\n",
    "from imblearn import under_sampling, over_sampling\n",
    "from imblearn.over_sampling import SMOTE\n",
    "\n"
   ]
  },
  {
   "cell_type": "code",
   "execution_count": 3,
   "metadata": {},
   "outputs": [],
   "source": [
    "DataRPS_N = pd.read_csv(\"RPS_N.csv\",low_memory=False)\n",
    "DataRPS_RedFlags = pd.read_csv(\"RPS_RedFlags.csv\",low_memory=False)\n",
    "\n",
    "DataRPS_N = DataRPS_N.drop(['Unnamed: 0'], axis=1)\n",
    "DataRPS_RedFlags = DataRPS_RedFlags.drop(['Unnamed: 0'], axis=1)\n",
    "\n",
    "# SMOTE_norm\n",
    "\n",
    "X_n = DataRPS_N.drop('Status', axis=1)\n",
    "y_n = DataRPS_N['Status']\n",
    "\n",
    "X_trainn, X_testn, y_trainn, y_testn = train_test_split(X_n, y_n, test_size=0.2)\n",
    "\n",
    "smote = SMOTE(random_state=17)\n",
    "\n",
    "X_trainn, y_trainn = smote.fit_resample(X_trainn, y_trainn)\n",
    "#X_testn, y_testn = smote.fit_resample(X_testn, y_testn)\n",
    "\n",
    "# SMOTE_red\n",
    "\n",
    "X_r = DataRPS_RedFlags.drop('Status', axis=1)\n",
    "y_r = DataRPS_RedFlags['Status']\n",
    "\n",
    "X_trainp, X_testp, y_trainp, y_testp = train_test_split(X_r, y_r, test_size=0.2)\n",
    "\n",
    "smote = SMOTE(random_state=17)\n",
    "\n",
    "X_trainp, y_trainp = smote.fit_resample(X_trainp, y_trainp)\n",
    "#X_testp, y_testp = smote.fit_resample(X_testp, y_testp)"
   ]
  },
  {
   "cell_type": "code",
   "execution_count": null,
   "metadata": {},
   "outputs": [],
   "source": [
    "\n"
   ]
  },
  {
   "cell_type": "code",
   "execution_count": 4,
   "metadata": {},
   "outputs": [
    {
     "name": "stdout",
     "output_type": "stream",
     "text": [
      "(1540386, 34)\n",
      "(1540386, 40)\n"
     ]
    }
   ],
   "source": [
    "print(DataRPS_N.shape)\n",
    "print(DataRPS_RedFlags.shape)"
   ]
  },
  {
   "cell_type": "code",
   "execution_count": 5,
   "metadata": {},
   "outputs": [
    {
     "name": "stdout",
     "output_type": "stream",
     "text": [
      "(2410824,)\n",
      "(308078,)\n"
     ]
    }
   ],
   "source": [
    "print(y_trainp.shape)\n",
    "print(y_testp.shape)"
   ]
  },
  {
   "cell_type": "code",
   "execution_count": 6,
   "metadata": {},
   "outputs": [
    {
     "name": "stdout",
     "output_type": "stream",
     "text": [
      "(2411288,)\n",
      "(308078,)\n"
     ]
    }
   ],
   "source": [
    "print(y_trainn.shape)\n",
    "print(y_testn.shape)"
   ]
  },
  {
   "cell_type": "code",
   "execution_count": 7,
   "metadata": {},
   "outputs": [
    {
     "name": "stdout",
     "output_type": "stream",
     "text": [
      "0    1205644\n",
      "1    1205644\n",
      "Name: Status, dtype: int64\n",
      "0    301248\n",
      "1      6830\n",
      "Name: Status, dtype: int64\n"
     ]
    }
   ],
   "source": [
    "print(y_trainn.value_counts())\n",
    "print(y_testn.value_counts())"
   ]
  },
  {
   "cell_type": "code",
   "execution_count": 8,
   "metadata": {},
   "outputs": [
    {
     "name": "stdout",
     "output_type": "stream",
     "text": [
      "0    1205412\n",
      "1    1205412\n",
      "Name: Status, dtype: int64\n",
      "0    301480\n",
      "1      6598\n",
      "Name: Status, dtype: int64\n"
     ]
    }
   ],
   "source": [
    "print(y_trainp.value_counts())\n",
    "print(y_testp.value_counts())"
   ]
  },
  {
   "attachments": {},
   "cell_type": "markdown",
   "metadata": {},
   "source": [
    "# Paqueterias"
   ]
  },
  {
   "attachments": {},
   "cell_type": "markdown",
   "metadata": {},
   "source": [
    "## Random Forest"
   ]
  },
  {
   "attachments": {},
   "cell_type": "markdown",
   "metadata": {},
   "source": [
    "### IMCO"
   ]
  },
  {
   "cell_type": "code",
   "execution_count": 9,
   "metadata": {},
   "outputs": [
    {
     "name": "stdout",
     "output_type": "stream",
     "text": [
      "RANDOM FOREST NORMAL DATA\n",
      "TEST PERFORMANCE\n",
      "------------------------------------------------------------\n",
      "              precision    recall  f1-score   support\n",
      "\n",
      "           0       0.99      1.00      1.00    301248\n",
      "           1       0.99      0.70      0.82      6830\n",
      "\n",
      "    accuracy                           0.99    308078\n",
      "   macro avg       0.99      0.85      0.91    308078\n",
      "weighted avg       0.99      0.99      0.99    308078\n",
      "\n",
      "CONFUSION MATRIX\n",
      "[[301184     64]\n",
      " [  2041   4789]]\n",
      "------------------------------------------------------------\n",
      "ROC_AUC_SCORE\n",
      "------------------------------------------------------------\n",
      "0.8504794267657186\n"
     ]
    }
   ],
   "source": [
    "{'n_estimators': 4000, 'min_samples_split': 10, 'min_samples_leaf': 2, 'max_features': 'sqrt', 'max_depth': 80, 'bootstrap': False}\n",
    "IMCO_rf_norm = RandomForestClassifier(n_estimators=4000,\n",
    "                                      min_samples_split=10,\n",
    "                                      min_samples_leaf=2,\n",
    "                                      max_features='sqrt',\n",
    "                                      max_depth=80,\n",
    "                                      bootstrap=False)\n",
    "IMCO_rf_norm.fit(X_trainn,y_trainn)\n",
    "IMCOy_pred_rand_norm = IMCO_rf_norm.predict(X_testn)\n",
    "\n",
    "print('RANDOM FOREST NORMAL DATA')\n",
    "print('TEST PERFORMANCE')\n",
    "print('------------------------------------------------------------')\n",
    "print(classification_report(y_testn,IMCOy_pred_rand_norm))\n",
    "print('CONFUSION MATRIX')\n",
    "print(confusion_matrix(y_testn, IMCOy_pred_rand_norm))\n",
    "print('------------------------------------------------------------')\n",
    "print('ROC_AUC_SCORE')\n",
    "print('------------------------------------------------------------')\n",
    "print(roc_auc_score(y_testn, IMCOy_pred_rand_norm))\n"
   ]
  },
  {
   "cell_type": "code",
   "execution_count": 10,
   "metadata": {},
   "outputs": [
    {
     "data": {
      "text/plain": [
       "<Axes: >"
      ]
     },
     "execution_count": 10,
     "metadata": {},
     "output_type": "execute_result"
    },
    {
     "data": {
      "image/png": "[encoded data removed]",
      "text/plain": [
       "<Figure size 640x480 with 1 Axes>"
      ]
     },
     "metadata": {},
     "output_type": "display_data"
    }
   ],
   "source": [
    "feat_importances_norm = pd.Series(IMCO_rf_norm.feature_importances_, index=X_trainn.columns)\n",
    "feat_importances_norm.nlargest(10).plot(kind='barh')"
   ]
  },
  {
   "cell_type": "code",
   "execution_count": 11,
   "metadata": {},
   "outputs": [
    {
     "name": "stdout",
     "output_type": "stream",
     "text": [
      "RANDOM FOREST RED FLAG DATA\n",
      "TEST PERFORMANCE\n",
      "------------------------------------------------------------\n",
      "              precision    recall  f1-score   support\n",
      "\n",
      "           0       0.99      1.00      1.00    301480\n",
      "           1       0.99      0.74      0.84      6598\n",
      "\n",
      "    accuracy                           0.99    308078\n",
      "   macro avg       0.99      0.87      0.92    308078\n",
      "weighted avg       0.99      0.99      0.99    308078\n",
      "\n",
      "CONFUSION MATRIX\n",
      "[[301418     62]\n",
      " [  1746   4852]]\n",
      "------------------------------------------------------------\n",
      "ROC_AUC_SCORE\n",
      "------------------------------------------------------------\n",
      "0.8675843518745936\n"
     ]
    }
   ],
   "source": [
    "# {'n_estimators': 2500, 'min_samples_split': 5, 'min_samples_leaf': 2, 'max_features': 'sqrt', 'max_depth': 50, 'bootstrap': False}\n",
    "IMCO_rf_red = RandomForestClassifier(n_estimators=4000,\n",
    "                                      min_samples_split=5,\n",
    "                                      min_samples_leaf=2,\n",
    "                                      max_features='sqrt',\n",
    "                                      max_depth=50,\n",
    "                                      bootstrap=False)\n",
    "IMCO_rf_red.fit(X_trainp,y_trainp)\n",
    "IMCOy_pred_rand_red = IMCO_rf_red.predict(X_testp)\n",
    "\n",
    "\n",
    "print('RANDOM FOREST RED FLAG DATA')\n",
    "print('TEST PERFORMANCE')\n",
    "print('------------------------------------------------------------')\n",
    "print(classification_report(y_testp,IMCOy_pred_rand_red))\n",
    "print('CONFUSION MATRIX')\n",
    "print(confusion_matrix(y_testp, IMCOy_pred_rand_red))\n",
    "print('------------------------------------------------------------')\n",
    "print('ROC_AUC_SCORE')\n",
    "print('------------------------------------------------------------')\n",
    "print(roc_auc_score(y_testp, IMCOy_pred_rand_red))\n",
    "\n"
   ]
  },
  {
   "cell_type": "code",
   "execution_count": 12,
   "metadata": {},
   "outputs": [
    {
     "data": {
      "text/plain": [
       "<Axes: >"
      ]
     },
     "execution_count": 12,
     "metadata": {},
     "output_type": "execute_result"
    },
    {
     "data": {
      "image/png": "[encoded data removed]",
      "text/plain": [
       "<Figure size 640x480 with 1 Axes>"
      ]
     },
     "metadata": {},
     "output_type": "display_data"
    }
   ],
   "source": [
    "\n",
    "feat_importances_red = pd.Series(IMCO_rf_red.feature_importances_, index=X_trainp.columns)\n",
    "feat_importances_red.nlargest(10).plot(kind='barh')"
   ]
  },
  {
   "attachments": {},
   "cell_type": "markdown",
   "metadata": {},
   "source": [
    "# XGBOOSTCLASSIFIER"
   ]
  },
  {
   "cell_type": "code",
   "execution_count": 13,
   "metadata": {},
   "outputs": [
    {
     "name": "stdout",
     "output_type": "stream",
     "text": [
      "Requirement already satisfied: xgboost in c:\\users\\permi\\anaconda3\\lib\\site-packages (1.7.6)\n",
      "Requirement already satisfied: scipy in c:\\users\\permi\\anaconda3\\lib\\site-packages (from xgboost) (1.10.0)\n",
      "Requirement already satisfied: numpy in c:\\users\\permi\\anaconda3\\lib\\site-packages (from xgboost) (1.23.5)\n"
     ]
    }
   ],
   "source": [
    "import sys\n",
    "\n",
    "!{sys.executable} -m pip install xgboost\n",
    "from xgboost import XGBClassifier"
   ]
  },
  {
   "cell_type": "code",
   "execution_count": 14,
   "metadata": {},
   "outputs": [
    {
     "name": "stdout",
     "output_type": "stream",
     "text": [
      "XGBOOST CLASSIFIER NORMAL DATA\n",
      "TEST PERFORMANCE\n",
      "------------------------------------------------------------\n",
      "              precision    recall  f1-score   support\n",
      "\n",
      "           0       0.99      1.00      1.00    301248\n",
      "           1       0.97      0.74      0.84      6830\n",
      "\n",
      "    accuracy                           0.99    308078\n",
      "   macro avg       0.98      0.87      0.92    308078\n",
      "weighted avg       0.99      0.99      0.99    308078\n",
      "\n",
      "CONFUSION MATRIX\n",
      "[[301074    174]\n",
      " [  1769   5061]]\n",
      "------------------------------------------------------------\n",
      "ROC_AUC_SCORE\n",
      "------------------------------------------------------------\n",
      "0.870209005208902\n"
     ]
    }
   ],
   "source": [
    "# {'subsample': 0.9, 'n_estimators': 300, 'max_depth': 11, 'learning_rate': 0.1}\n",
    "\n",
    "IMCO_XGBC_norm = XGBClassifier(subsample=0.9,\n",
    "                          n_estimators=300,\n",
    "                          max_depth=11,\n",
    "                          learning_rate=0.1)\n",
    "\n",
    "IMCO_XGBC_norm.fit(X_trainn, y_trainn)\n",
    "\n",
    "IMCO_pred_xgbc_norm = IMCO_XGBC_norm.predict(X_testn)\n",
    "\n",
    "print('XGBOOST CLASSIFIER NORMAL DATA')\n",
    "print('TEST PERFORMANCE')\n",
    "print('------------------------------------------------------------')\n",
    "print(classification_report(y_testn, IMCO_pred_xgbc_norm))\n",
    "print('CONFUSION MATRIX')\n",
    "print(confusion_matrix(y_testn, IMCO_pred_xgbc_norm))\n",
    "print('------------------------------------------------------------')\n",
    "print('ROC_AUC_SCORE')\n",
    "print('------------------------------------------------------------')\n",
    "print(roc_auc_score(y_testn, IMCO_pred_xgbc_norm))"
   ]
  },
  {
   "cell_type": "code",
   "execution_count": 15,
   "metadata": {},
   "outputs": [
    {
     "name": "stdout",
     "output_type": "stream",
     "text": [
      "XGBOOST CLASSIFIER PREPROCESSED & RED DATA\n",
      "TEST PERFORMANCE\n",
      "------------------------------------------------------------\n",
      "              precision    recall  f1-score   support\n",
      "\n",
      "           0       0.99      1.00      1.00    301480\n",
      "           1       0.98      0.76      0.86      6598\n",
      "\n",
      "    accuracy                           0.99    308078\n",
      "   macro avg       0.99      0.88      0.93    308078\n",
      "weighted avg       0.99      0.99      0.99    308078\n",
      "\n",
      "CONFUSION MATRIX\n",
      "[[301382     98]\n",
      " [  1565   5033]]\n",
      "------------------------------------------------------------\n",
      "ROC_AUC_SCORE\n",
      "------------------------------------------------------------\n",
      "0.8812409240813924\n"
     ]
    }
   ],
   "source": [
    "# {'subsample': 0.8, 'n_estimators': 150, 'max_depth': 11, 'learning_rate': 0.1}\n",
    "IMCO_XGBC_red = XGBClassifier(subsample=0.8,\n",
    "                          n_estimators=300,\n",
    "                          max_depth=11,\n",
    "                          learning_rate=0.1)\n",
    "\n",
    "\n",
    "IMCO_XGBC_red.fit(X_trainp, y_trainp)\n",
    "\n",
    "IMCO_pred_xgbc_red = IMCO_XGBC_red.predict(X_testp)\n",
    "\n",
    "print('XGBOOST CLASSIFIER PREPROCESSED & RED DATA')\n",
    "print('TEST PERFORMANCE')\n",
    "print('------------------------------------------------------------')\n",
    "print(classification_report(y_testp, IMCO_pred_xgbc_red))\n",
    "print('CONFUSION MATRIX')\n",
    "print(confusion_matrix(y_testp, IMCO_pred_xgbc_red))\n",
    "print('------------------------------------------------------------')\n",
    "print('ROC_AUC_SCORE')\n",
    "print('------------------------------------------------------------')\n",
    "print(roc_auc_score(y_testp, IMCO_pred_xgbc_red))\n"
   ]
  },
  {
   "attachments": {},
   "cell_type": "markdown",
   "metadata": {},
   "source": [
    "#  EXTRATREESCLASSIFIER"
   ]
  },
  {
   "cell_type": "code",
   "execution_count": 16,
   "metadata": {},
   "outputs": [
    {
     "name": "stdout",
     "output_type": "stream",
     "text": [
      "EXTRATREESCLASSIFIER NORMAL DATA\n",
      "TEST PERFORMANCE\n",
      "------------------------------------------------------------\n",
      "              precision    recall  f1-score   support\n",
      "\n",
      "           0       0.99      1.00      1.00    301248\n",
      "           1       0.95      0.71      0.81      6830\n",
      "\n",
      "    accuracy                           0.99    308078\n",
      "   macro avg       0.97      0.85      0.90    308078\n",
      "weighted avg       0.99      0.99      0.99    308078\n",
      "\n",
      "CONFUSION MATRIX\n",
      "[[300966    282]\n",
      " [  1975   4855]]\n",
      "------------------------------------------------------------\n",
      "ROC_AUC_SCORE\n",
      "------------------------------------------------------------\n",
      "0.854949223820415\n"
     ]
    }
   ],
   "source": [
    "\n",
    "# {'n_estimators': 500, 'min_samples_split': 2, 'min_samples_leaf': 1, 'max_depth': None}\n",
    "IMCO_ETC_norm = ExtraTreesClassifier(n_estimators=500,\n",
    "                                     min_samples_split=2,\n",
    "                                     min_samples_leaf=1,\n",
    "                                     max_depth=None)\n",
    "\n",
    "IMCO_ETC_norm.fit(X_trainn, y_trainn)\n",
    "\n",
    "IMCO_pred_etc_norm = IMCO_ETC_norm.predict(X_testn)\n",
    "\n",
    "print('EXTRATREESCLASSIFIER NORMAL DATA')\n",
    "print('TEST PERFORMANCE')\n",
    "print('------------------------------------------------------------')\n",
    "print(classification_report(y_testn, IMCO_pred_etc_norm))\n",
    "print('CONFUSION MATRIX')\n",
    "print(confusion_matrix(y_testn, IMCO_pred_etc_norm))\n",
    "print('------------------------------------------------------------')\n",
    "print('ROC_AUC_SCORE')\n",
    "print('------------------------------------------------------------')\n",
    "print(roc_auc_score(y_testn, IMCO_pred_etc_norm))"
   ]
  },
  {
   "cell_type": "code",
   "execution_count": 17,
   "metadata": {},
   "outputs": [
    {
     "name": "stdout",
     "output_type": "stream",
     "text": [
      "EXTRATREESCLASSIFIER REDFLAGS DATA\n",
      "TEST PERFORMANCE\n",
      "------------------------------------------------------------\n",
      "              precision    recall  f1-score   support\n",
      "\n",
      "           0       0.99      1.00      1.00    301480\n",
      "           1       0.99      0.70      0.82      6598\n",
      "\n",
      "    accuracy                           0.99    308078\n",
      "   macro avg       0.99      0.85      0.91    308078\n",
      "weighted avg       0.99      0.99      0.99    308078\n",
      "\n",
      "CONFUSION MATRIX\n",
      "[[301412     68]\n",
      " [  1959   4639]]\n",
      "------------------------------------------------------------\n",
      "ROC_AUC_SCORE\n",
      "------------------------------------------------------------\n",
      "0.8514331460400087\n"
     ]
    }
   ],
   "source": [
    "# {'n_estimators': 500, 'min_samples_split': 10, 'min_samples_leaf': 1, 'max_depth': None}\n",
    "\n",
    "IMCO_ETC_red = ExtraTreesClassifier(n_estimators=500,\n",
    "                                     min_samples_split=10,\n",
    "                                     min_samples_leaf=1,\n",
    "                                     max_depth=None)\n",
    "\n",
    "IMCO_ETC_red.fit(X_trainp, y_trainp)\n",
    "\n",
    "IMCO_pred_etc_red = IMCO_ETC_red.predict(X_testp)\n",
    "\n",
    "print('EXTRATREESCLASSIFIER REDFLAGS DATA')\n",
    "print('TEST PERFORMANCE')\n",
    "print('------------------------------------------------------------')\n",
    "print(classification_report(y_testp, IMCO_pred_etc_red))\n",
    "print('CONFUSION MATRIX')\n",
    "print(confusion_matrix(y_testp, IMCO_pred_etc_red))\n",
    "print('------------------------------------------------------------')\n",
    "print('ROC_AUC_SCORE')\n",
    "print('------------------------------------------------------------')\n",
    "print(roc_auc_score(y_testp, IMCO_pred_etc_red))"
   ]
  },
  {
   "attachments": {},
   "cell_type": "markdown",
   "metadata": {},
   "source": [
    "# MULTILAYER PERCEPTRON"
   ]
  },
  {
   "cell_type": "code",
   "execution_count": 18,
   "metadata": {},
   "outputs": [
    {
     "name": "stdout",
     "output_type": "stream",
     "text": [
      "MLP NORMAL DATA\n",
      "TEST PERFORMANCE\n",
      "------------------------------------------------------------\n"
     ]
    },
    {
     "name": "stderr",
     "output_type": "stream",
     "text": [
      "c:\\Users\\permi\\anaconda3\\lib\\site-packages\\sklearn\\metrics\\_classification.py:1344: UndefinedMetricWarning: Precision and F-score are ill-defined and being set to 0.0 in labels with no predicted samples. Use `zero_division` parameter to control this behavior.\n",
      "  _warn_prf(average, modifier, msg_start, len(result))\n",
      "c:\\Users\\permi\\anaconda3\\lib\\site-packages\\sklearn\\metrics\\_classification.py:1344: UndefinedMetricWarning: Precision and F-score are ill-defined and being set to 0.0 in labels with no predicted samples. Use `zero_division` parameter to control this behavior.\n",
      "  _warn_prf(average, modifier, msg_start, len(result))\n",
      "c:\\Users\\permi\\anaconda3\\lib\\site-packages\\sklearn\\metrics\\_classification.py:1344: UndefinedMetricWarning: Precision and F-score are ill-defined and being set to 0.0 in labels with no predicted samples. Use `zero_division` parameter to control this behavior.\n",
      "  _warn_prf(average, modifier, msg_start, len(result))\n"
     ]
    },
    {
     "name": "stdout",
     "output_type": "stream",
     "text": [
      "              precision    recall  f1-score   support\n",
      "\n",
      "           0       0.00      0.00      0.00    301248\n",
      "           1       0.02      1.00      0.04      6830\n",
      "\n",
      "    accuracy                           0.02    308078\n",
      "   macro avg       0.01      0.50      0.02    308078\n",
      "weighted avg       0.00      0.02      0.00    308078\n",
      "\n",
      "CONFUSION MATRIX\n",
      "[[     0 301248]\n",
      " [     0   6830]]\n",
      "------------------------------------------------------------\n",
      "ROC_AUC_SCORE\n",
      "------------------------------------------------------------\n",
      "0.5\n"
     ]
    }
   ],
   "source": [
    "# {'solver': 'adam', 'max_iter': 300, 'learning_rate': 'adaptive', 'hidden_layer_sizes': (100,), 'alpha': 0.001, 'activation': 'relu'}\n",
    "IMCO_MLP_norm = MLPClassifier(solver='adam',\n",
    "                    max_iter=300,\n",
    "                    learning_rate='adaptive',\n",
    "                    hidden_layer_sizes=(100,),\n",
    "                    alpha=0.001,\n",
    "                    activation='relu')\n",
    "\n",
    "# Perform randomized search with cross-validation\n",
    "\n",
    "IMCO_MLP_norm.fit(X_trainn, y_trainn)\n",
    "\n",
    "IMCO_pred_mlpc_norm = IMCO_MLP_norm.predict(X_testn)\n",
    "\n",
    "print('MLP NORMAL DATA')\n",
    "print('TEST PERFORMANCE')\n",
    "print('------------------------------------------------------------')\n",
    "print(classification_report(y_testn, IMCO_pred_mlpc_norm))\n",
    "print('CONFUSION MATRIX')\n",
    "print(confusion_matrix(y_testn, IMCO_pred_mlpc_norm))\n",
    "print('------------------------------------------------------------')\n",
    "print('ROC_AUC_SCORE')\n",
    "print('------------------------------------------------------------')\n",
    "print(roc_auc_score(y_testn, IMCO_pred_mlpc_norm))"
   ]
  },
  {
   "cell_type": "code",
   "execution_count": 19,
   "metadata": {},
   "outputs": [
    {
     "name": "stdout",
     "output_type": "stream",
     "text": [
      "MLP REDFLAGS DATA\n",
      "TEST PERFORMANCE\n",
      "------------------------------------------------------------\n",
      "              precision    recall  f1-score   support\n",
      "\n",
      "           0       0.98      1.00      0.99    301480\n",
      "           1       0.00      0.00      0.00      6598\n",
      "\n",
      "    accuracy                           0.98    308078\n",
      "   macro avg       0.49      0.50      0.49    308078\n",
      "weighted avg       0.96      0.98      0.97    308078\n",
      "\n",
      "CONFUSION MATRIX\n",
      "[[301480      0]\n",
      " [  6598      0]]\n",
      "------------------------------------------------------------\n",
      "ROC_AUC_SCORE\n",
      "------------------------------------------------------------\n",
      "0.5\n"
     ]
    },
    {
     "name": "stderr",
     "output_type": "stream",
     "text": [
      "c:\\Users\\permi\\anaconda3\\lib\\site-packages\\sklearn\\metrics\\_classification.py:1344: UndefinedMetricWarning: Precision and F-score are ill-defined and being set to 0.0 in labels with no predicted samples. Use `zero_division` parameter to control this behavior.\n",
      "  _warn_prf(average, modifier, msg_start, len(result))\n",
      "c:\\Users\\permi\\anaconda3\\lib\\site-packages\\sklearn\\metrics\\_classification.py:1344: UndefinedMetricWarning: Precision and F-score are ill-defined and being set to 0.0 in labels with no predicted samples. Use `zero_division` parameter to control this behavior.\n",
      "  _warn_prf(average, modifier, msg_start, len(result))\n",
      "c:\\Users\\permi\\anaconda3\\lib\\site-packages\\sklearn\\metrics\\_classification.py:1344: UndefinedMetricWarning: Precision and F-score are ill-defined and being set to 0.0 in labels with no predicted samples. Use `zero_division` parameter to control this behavior.\n",
      "  _warn_prf(average, modifier, msg_start, len(result))\n"
     ]
    }
   ],
   "source": [
    "# {'solver': 'adam', 'max_iter': 100, 'learning_rate': 'adaptive', 'hidden_layer_sizes': (100, 50), 'alpha': 0.001, 'activation': 'logistic'}\n",
    "\n",
    "IMCO_MLP_red = MLPClassifier(solver='adam',\n",
    "                    max_iter=300,\n",
    "                    learning_rate='adaptive',\n",
    "                    hidden_layer_sizes=(100,50),\n",
    "                    alpha=0.001,\n",
    "                    activation='logistic')\n",
    "\n",
    "# Perform randomized search with cross-validation\n",
    "\n",
    "IMCO_MLP_red.fit(X_trainp, y_trainp)\n",
    "\n",
    "IMCO_pred_mlpc_red = IMCO_MLP_red.predict(X_testp)\n",
    "\n",
    "print('MLP REDFLAGS DATA')\n",
    "print('TEST PERFORMANCE')\n",
    "print('------------------------------------------------------------')\n",
    "print(classification_report(y_testp, IMCO_pred_mlpc_red))\n",
    "print('CONFUSION MATRIX')\n",
    "print(confusion_matrix(y_testp, IMCO_pred_mlpc_red))\n",
    "print('------------------------------------------------------------')\n",
    "print('ROC_AUC_SCORE')\n",
    "print('------------------------------------------------------------')\n",
    "print(roc_auc_score(y_testp, IMCO_pred_mlpc_red))\n"
   ]
  },
  {
   "attachments": {},
   "cell_type": "markdown",
   "metadata": {},
   "source": [
    "# NAIVE BAYES"
   ]
  },
  {
   "cell_type": "code",
   "execution_count": 20,
   "metadata": {},
   "outputs": [
    {
     "name": "stdout",
     "output_type": "stream",
     "text": [
      "NAIVE BAYES CLASSIFIER NORMAL DATA\n",
      "TEST PERFORMANCE\n",
      "------------------------------------------------------------\n",
      "              precision    recall  f1-score   support\n",
      "\n",
      "           0       0.98      0.97      0.97    301248\n",
      "           1       0.16      0.28      0.20      6830\n",
      "\n",
      "    accuracy                           0.95    308078\n",
      "   macro avg       0.57      0.62      0.59    308078\n",
      "weighted avg       0.97      0.95      0.96    308078\n",
      "\n",
      "CONFUSION MATRIX\n",
      "[[290840  10408]\n",
      " [  4915   1915]]\n",
      "------------------------------------------------------------\n",
      "ROC_AUC_SCORE\n",
      "------------------------------------------------------------\n",
      "0.6229155332654616\n"
     ]
    }
   ],
   "source": [
    "# 'var_smoothing': 8.111308307896872e-05\n",
    "IMCO_NBclass_norm = GaussianNB(var_smoothing=8.111308307896872e-05)\n",
    "\n",
    "IMCO_NBclass_norm.fit(X_trainn, y_trainn)\n",
    "\n",
    "IMCO_pred_nbclass_norm = IMCO_NBclass_norm.predict(X_testn)\n",
    "\n",
    "print('NAIVE BAYES CLASSIFIER NORMAL DATA')\n",
    "print('TEST PERFORMANCE')\n",
    "print('------------------------------------------------------------')\n",
    "print(classification_report(y_testn, IMCO_pred_nbclass_norm))\n",
    "print('CONFUSION MATRIX')\n",
    "print(confusion_matrix(y_testn, IMCO_pred_nbclass_norm))\n",
    "print('------------------------------------------------------------')\n",
    "print('ROC_AUC_SCORE')\n",
    "print('------------------------------------------------------------')\n",
    "print(roc_auc_score(y_testn, IMCO_pred_nbclass_norm))"
   ]
  },
  {
   "cell_type": "code",
   "execution_count": 21,
   "metadata": {},
   "outputs": [
    {
     "name": "stdout",
     "output_type": "stream",
     "text": [
      "NAIVE BAYES CLASSIFIER NORMAL DATA\n",
      "TEST PERFORMANCE\n",
      "------------------------------------------------------------\n",
      "              precision    recall  f1-score   support\n",
      "\n",
      "           0       0.98      0.97      0.97    301480\n",
      "           1       0.15      0.28      0.20      6598\n",
      "\n",
      "    accuracy                           0.95    308078\n",
      "   macro avg       0.57      0.62      0.59    308078\n",
      "weighted avg       0.97      0.95      0.96    308078\n",
      "\n",
      "CONFUSION MATRIX\n",
      "[[291252  10228]\n",
      " [  4725   1873]]\n",
      "------------------------------------------------------------\n",
      "ROC_AUC_SCORE\n",
      "------------------------------------------------------------\n",
      "0.624973967972009\n"
     ]
    }
   ],
   "source": [
    "# 'var_smoothing': 8.111308307896872e-05\n",
    "IMCO_NBclass_red = GaussianNB(var_smoothing=2.848035868435799e-08)\n",
    "\n",
    "IMCO_NBclass_red.fit(X_trainp, y_trainp)\n",
    "\n",
    "IMCO_pred_nbclass_red = IMCO_NBclass_red.predict(X_testp)\n",
    "\n",
    "print('NAIVE BAYES CLASSIFIER NORMAL DATA')\n",
    "print('TEST PERFORMANCE')\n",
    "print('------------------------------------------------------------')\n",
    "print(classification_report(y_testp, IMCO_pred_nbclass_red))\n",
    "print('CONFUSION MATRIX')\n",
    "print(confusion_matrix(y_testp, IMCO_pred_nbclass_red))\n",
    "print('------------------------------------------------------------')\n",
    "print('ROC_AUC_SCORE')\n",
    "print('------------------------------------------------------------')\n",
    "print(roc_auc_score(y_testp, IMCO_pred_nbclass_red))"
   ]
  },
  {
   "attachments": {},
   "cell_type": "markdown",
   "metadata": {},
   "source": [
    "# KNeighborsClassifier"
   ]
  },
  {
   "cell_type": "code",
   "execution_count": 22,
   "metadata": {},
   "outputs": [
    {
     "name": "stdout",
     "output_type": "stream",
     "text": [
      "NEAREST NEIGHBOR CLASSIFIER NORMAL DATA\n",
      "TEST PERFORMANCE\n",
      "------------------------------------------------------------\n",
      "              precision    recall  f1-score   support\n",
      "\n",
      "           0       1.00      0.97      0.98    301248\n",
      "           1       0.34      0.79      0.48      6830\n",
      "\n",
      "    accuracy                           0.96    308078\n",
      "   macro avg       0.67      0.88      0.73    308078\n",
      "weighted avg       0.98      0.96      0.97    308078\n",
      "\n",
      "CONFUSION MATRIX\n",
      "[[290878  10370]\n",
      " [  1448   5382]]\n",
      "------------------------------------------------------------\n",
      "ROC_AUC_SCORE\n",
      "------------------------------------------------------------\n",
      "0.8767853392162882\n"
     ]
    }
   ],
   "source": [
    "# {'weights': 'uniform', 'n_neighbors': 1, 'metric': 'euclidean'}\n",
    "IMCO_knc_norm = KNeighborsClassifier(weights='uniform',\n",
    "                                n_neighbors=1,\n",
    "                                metric='euclidean')\n",
    "IMCO_knc_norm.fit(X_trainn, y_trainn)\n",
    "\n",
    "IMCO_pred_knc_norm = IMCO_knc_norm.predict(X_testn)\n",
    "\n",
    "print('NEAREST NEIGHBOR CLASSIFIER NORMAL DATA')\n",
    "print('TEST PERFORMANCE')\n",
    "print('------------------------------------------------------------')\n",
    "print(classification_report(y_testn, IMCO_pred_knc_norm))\n",
    "print('CONFUSION MATRIX')\n",
    "print(confusion_matrix(y_testn, IMCO_pred_knc_norm))\n",
    "print('------------------------------------------------------------')\n",
    "print('ROC_AUC_SCORE')\n",
    "print('------------------------------------------------------------')\n",
    "print(roc_auc_score(y_testn, IMCO_pred_knc_norm))"
   ]
  },
  {
   "cell_type": "code",
   "execution_count": 23,
   "metadata": {},
   "outputs": [
    {
     "name": "stdout",
     "output_type": "stream",
     "text": [
      "NEAREST NEIGHBOR CLASSIFIER NORMAL DATA\n",
      "TEST PERFORMANCE\n",
      "------------------------------------------------------------\n",
      "              precision    recall  f1-score   support\n",
      "\n",
      "           0       1.00      0.97      0.98    301480\n",
      "           1       0.33      0.79      0.47      6598\n",
      "\n",
      "    accuracy                           0.96    308078\n",
      "   macro avg       0.66      0.88      0.72    308078\n",
      "weighted avg       0.98      0.96      0.97    308078\n",
      "\n",
      "CONFUSION MATRIX\n",
      "[[291057  10423]\n",
      " [  1400   5198]]\n",
      "------------------------------------------------------------\n",
      "ROC_AUC_SCORE\n",
      "------------------------------------------------------------\n",
      "0.8766208574628881\n"
     ]
    }
   ],
   "source": [
    "# {'weights': 'uniform', 'n_neighbors': 1, 'metric': 'euclidean'}\n",
    "IMCO_knc_red = KNeighborsClassifier(weights='uniform',\n",
    "                                n_neighbors=1,\n",
    "                                metric='euclidean')\n",
    "IMCO_knc_red.fit(X_trainp, y_trainp)\n",
    "\n",
    "IMCO_pred_knc_red = IMCO_knc_red.predict(X_testp)\n",
    "\n",
    "print('NEAREST NEIGHBOR CLASSIFIER NORMAL DATA')\n",
    "print('TEST PERFORMANCE')\n",
    "print('------------------------------------------------------------')\n",
    "print(classification_report(y_testp, IMCO_pred_knc_red))\n",
    "print('CONFUSION MATRIX')\n",
    "print(confusion_matrix(y_testp, IMCO_pred_knc_red))\n",
    "print('------------------------------------------------------------')\n",
    "print('ROC_AUC_SCORE')\n",
    "print('------------------------------------------------------------')\n",
    "print(roc_auc_score(y_testp, IMCO_pred_knc_red))"
   ]
  },
  {
   "attachments": {},
   "cell_type": "markdown",
   "metadata": {},
   "source": [
    "# LOGISTIC REGRESSION"
   ]
  },
  {
   "cell_type": "code",
   "execution_count": 25,
   "metadata": {},
   "outputs": [
    {
     "name": "stderr",
     "output_type": "stream",
     "text": [
      "c:\\Users\\permi\\anaconda3\\lib\\site-packages\\scipy\\optimize\\_linesearch.py:457: LineSearchWarning: The line search algorithm did not converge\n",
      "  warn('The line search algorithm did not converge', LineSearchWarning)\n",
      "c:\\Users\\permi\\anaconda3\\lib\\site-packages\\scipy\\optimize\\_linesearch.py:306: LineSearchWarning: The line search algorithm did not converge\n",
      "  warn('The line search algorithm did not converge', LineSearchWarning)\n",
      "c:\\Users\\permi\\anaconda3\\lib\\site-packages\\scipy\\optimize\\_linesearch.py:416: LineSearchWarning: Rounding errors prevent the line search from converging\n",
      "  warn(msg, LineSearchWarning)\n",
      "c:\\Users\\permi\\anaconda3\\lib\\site-packages\\sklearn\\utils\\optimize.py:203: UserWarning: Line Search failed\n",
      "  warnings.warn(\"Line Search failed\")\n"
     ]
    },
    {
     "name": "stdout",
     "output_type": "stream",
     "text": [
      "MLPC RED FLAGS DATA\n",
      "TEST PERFORMANCE\n",
      "------------------------------------------------------------\n",
      "              precision    recall  f1-score   support\n",
      "\n",
      "           0       0.99      0.80      0.88    301248\n",
      "           1       0.06      0.60      0.11      6830\n",
      "\n",
      "    accuracy                           0.79    308078\n",
      "   macro avg       0.53      0.70      0.50    308078\n",
      "weighted avg       0.97      0.79      0.86    308078\n",
      "\n",
      "CONFUSION MATRIX\n",
      "[[239517  61731]\n",
      " [  2762   4068]]\n",
      "------------------------------------------------------------\n",
      "ROC_AUC_SCORE\n",
      "------------------------------------------------------------\n",
      "0.6953450352244764\n"
     ]
    }
   ],
   "source": [
    "from sklearn.linear_model import LogisticRegression\n",
    "# {'solver': 'newton-cg', 'penalty': 'l2', 'max_iter': 500, 'C': 100}\n",
    "\n",
    "RPS_LR_norm = LogisticRegression(solver='newton-cg',\n",
    "                        penalty='l2',\n",
    "                        max_iter=500,\n",
    "                        C=100)\n",
    "\n",
    "RPS_LR_norm.fit(X_trainn, y_trainn)\n",
    "\n",
    "RPS_pred_lr_norm = RPS_LR_norm.predict(X_testn)\n",
    "\n",
    "\n",
    "print('MLPC RED FLAGS DATA')\n",
    "print('TEST PERFORMANCE')\n",
    "print('------------------------------------------------------------')\n",
    "print(classification_report(y_testn, RPS_pred_lr_norm))\n",
    "print('CONFUSION MATRIX')\n",
    "print(confusion_matrix(y_testn, RPS_pred_lr_norm))\n",
    "print('------------------------------------------------------------')\n",
    "print('ROC_AUC_SCORE')\n",
    "print('------------------------------------------------------------')\n",
    "print(roc_auc_score(y_testn, RPS_pred_lr_norm))"
   ]
  },
  {
   "cell_type": "code",
   "execution_count": 26,
   "metadata": {},
   "outputs": [
    {
     "name": "stdout",
     "output_type": "stream",
     "text": [
      "MLPC RED FLAGS DATA\n",
      "TEST PERFORMANCE\n",
      "------------------------------------------------------------\n",
      "              precision    recall  f1-score   support\n",
      "\n",
      "           0       0.99      0.94      0.96    301480\n",
      "           1       0.15      0.48      0.22      6598\n",
      "\n",
      "    accuracy                           0.93    308078\n",
      "   macro avg       0.57      0.71      0.59    308078\n",
      "weighted avg       0.97      0.93      0.95    308078\n",
      "\n",
      "CONFUSION MATRIX\n",
      "[[282795  18685]\n",
      " [  3410   3188]]\n",
      "------------------------------------------------------------\n",
      "ROC_AUC_SCORE\n",
      "------------------------------------------------------------\n",
      "0.7105995714664279\n"
     ]
    }
   ],
   "source": [
    " \n",
    "# {'solver': 'liblinear', 'penalty': 'l1', 'max_iter': 500, 'C': 10}\n",
    "\n",
    "RPS_LR_red = LogisticRegression(solver='liblinear',\n",
    "                        penalty='l1',\n",
    "                        max_iter=500,\n",
    "                        C=10)\n",
    "\n",
    "RPS_LR_red.fit(X_trainp, y_trainp)\n",
    "\n",
    "RPS_pred_lr_red = RPS_LR_red.predict(X_testp)\n",
    "\n",
    "print('MLPC RED FLAGS DATA')\n",
    "\n",
    "print('TEST PERFORMANCE')\n",
    "print('------------------------------------------------------------')\n",
    "print(classification_report(y_testp, RPS_pred_lr_red))\n",
    "print('CONFUSION MATRIX')\n",
    "print(confusion_matrix(y_testp, RPS_pred_lr_red))\n",
    "print('------------------------------------------------------------')\n",
    "print('ROC_AUC_SCORE')\n",
    "print('------------------------------------------------------------')\n",
    "print(roc_auc_score(y_testp, RPS_pred_lr_red))"
   ]
  },
  {
   "cell_type": "code",
   "execution_count": null,
   "metadata": {},
   "outputs": [],
   "source": []
  }
 ],
 "metadata": {
  "kernelspec": {
   "display_name": "base",
   "language": "python",
   "name": "python3"
  },
  "language_info": {
   "codemirror_mode": {
    "name": "ipython",
    "version": 3
   },
   "file_extension": ".py",
   "mimetype": "text/x-python",
   "name": "python",
   "nbconvert_exporter": "python",
   "pygments_lexer": "ipython3",
   "version": "3.10.9"
  },
  "orig_nbformat": 4
 },
 "nbformat": 4,
 "nbformat_minor": 2
}
