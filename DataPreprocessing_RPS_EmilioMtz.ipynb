{
 "cells": [
  {
   "cell_type": "code",
   "execution_count": 14,
   "metadata": {},
   "outputs": [],
   "source": [
    "# Required packages for the project\n",
    "import pandas as pd\n",
    "import numpy as np\n",
    "import matplotlib.pyplot as plt"
   ]
  },
  {
   "cell_type": "code",
   "execution_count": null,
   "metadata": {},
   "outputs": [],
   "source": [
    "# Data download\n",
    "data_RPS = pd.read_csv(\"RPS_Cont_2013-2020.csv\", low_memory=False)\n"
   ]
  },
  {
   "cell_type": "code",
   "execution_count": null,
   "metadata": {},
   "outputs": [],
   "source": [
    "# Replacing values in the Status column\n",
    "cleanup_nums = {\"Status\": {\"NC\": 0, \"PCS\": 1, \"EFOS\": 1}}\n",
    "data_RPS = data_RPS.replace(cleanup_nums)"
   ]
  },
  {
   "cell_type": "code",
   "execution_count": 15,
   "metadata": {},
   "outputs": [],
   "source": [
    "# Function to display all columns\n",
    "pd.set_option('display.max_columns', None)"
   ]
  },
  {
   "cell_type": "code",
   "execution_count": 16,
   "metadata": {},
   "outputs": [],
   "source": [
    "# Creating a copy of the database for each model\n",
    "data_normal = data_RPS.copy()\n",
    "data_redf = data_RPS.copy()\n"
   ]
  },
  {
   "attachments": {},
   "cell_type": "markdown",
   "metadata": {},
   "source": [
    "# Base de datos normal"
   ]
  },
  {
   "cell_type": "code",
   "execution_count": 17,
   "metadata": {},
   "outputs": [],
   "source": [
    "# Removing columns that will not be used. In this case (DepID, ProvContID)\n",
    "features = ['GO.APF', 'GO.GE', 'GO.GM', 'PC.N', 'PC.I', 'PC.ITLC', 'CT.OP', 'CT.S', 'CT.AD', 'CT.AR', 'CT.SLAOP',\n",
    "            'PT.AD', 'PT.I3P', 'PT.LP', 'S.NOM', 'S.MED', 'S.PEQ', 'S.MIC', 'S.NA',\n",
    "            'BeginningWeek', 'EndingWeek', 'EBWeeks', 'Spending', 'T.Cont', 'T.Cont.Max', 'T.Spending',\n",
    "            'T.Spending.Max', 'T.AD', 'ActiveWeeks', 'CPW', 'SPW', 'Fav', 'RAD', 'Status']\n",
    "data_normal = data_normal[features]\n"
   ]
  },
  {
   "attachments": {},
   "cell_type": "markdown",
   "metadata": {},
   "source": [
    "# RedFlags"
   ]
  },
  {
   "attachments": {},
   "cell_type": "markdown",
   "metadata": {},
   "source": [
    "•\t\tPercentage of split contracts per year"
   ]
  },
  {
   "cell_type": "code",
   "execution_count": 19,
   "metadata": {},
   "outputs": [
    {
     "data": {
      "text/plain": [
       "(1540386, 38)"
      ]
     },
     "execution_count": 19,
     "metadata": {},
     "output_type": "execute_result"
    }
   ],
   "source": [
    "# Filter the main database for non-competitive contracts, i.e., Direct Award and Restricted Invitation\n",
    "data_RPS_without_PTLP = data_redf[(data_redf[\"PT.AD\"] == 1) | (data_redf[\"PT.I3P\"] == 1)]\n",
    "\n",
    "# Create a pivot table to identify the occurrences of contracts in the same starting week and year\n",
    "data_RPS_without_PTLP_sameWandY = data_RPS_without_PTLP.groupby(['ProvContID', 'DepID', 'Year', 'BeginningWeek'])['BeginningWeek'].count().reset_index(name=\"Same_BegWeekandYear_Count\")\n",
    "\n",
    "# Filter by suppliers and contractors who have had more than one contracting process in the same week of the same year\n",
    "data_RPS_without_PTLP_sameWandY = data_RPS_without_PTLP_sameWandY[data_RPS_without_PTLP_sameWandY[\"Same_BegWeekandYear_Count\"] > 1]\n",
    "\n",
    "# Select the columns of interest\n",
    "data_RPS_without_PTLP_sameWandY = data_RPS_without_PTLP_sameWandY[[\"ProvContID\", \"Year\", \"DepID\", \"BeginningWeek\", \"Same_BegWeekandYear_Count\"]]\n",
    "\n",
    "# This table shows the number of contracting processes by suppliers and contractors per year\n",
    "ProvContID_tot_perY = data_redf.groupby([\"ProvContID\", \"Year\"]).count()\n",
    "\n",
    "# Reset the index\n",
    "ProvContID_tot_perY.reset_index(inplace=True)\n",
    "\n",
    "# Remove the unwanted columns\n",
    "ProvContID_tot_perY = ProvContID_tot_perY[['ProvContID', 'Year', 'Status']]\n",
    "\n",
    "# Rename the 'Status' column to 'Tot_ProvContID_per_Year' (Total Bidding Processes per Supplier and Year)\n",
    "ProvContID_tot_perY = ProvContID_tot_perY.rename(columns={'Status': 'Tot_ProvContID_per_Year'})\n",
    "\n",
    "# Merge with the main database\n",
    "data_redf = pd.merge(data_redf, ProvContID_tot_perY, on=[\"ProvContID\", \"Year\"], how=\"left\")\n",
    "\n",
    "# Merge the databases\n",
    "data_redf = pd.merge(data_redf, data_RPS_without_PTLP_sameWandY, on=[\"ProvContID\", \"DepID\", \"Year\", \"BeginningWeek\"], how=\"left\")\n",
    "\n",
    "# Calculate the percentage of contracts that occurred on the same day and year relative to the total contracts of a supplier per year\n",
    "data_redf[\"PSC\"] = data_redf[\"Same_BegWeekandYear_Count\"] / data_redf[\"Tot_ProvContID_per_Year\"]\n",
    "\n",
    "# Remove the columns used for calculation\n",
    "data_redf.drop([\"Tot_ProvContID_per_Year\", \"Same_BegWeekandYear_Count\"], axis=1, inplace=True)\n",
    "\n",
    "# Fill the null values with 0\n",
    "data_redf[\"PSC\"] = data_redf[\"PSC\"].fillna(0)\n",
    "\n",
    "data_redf.shape"
   ]
  },
  {
   "attachments": {},
   "cell_type": "markdown",
   "metadata": {},
   "source": [
    "\n",
    "•\tPercentage of non-open procedures by government agency"
   ]
  },
  {
   "cell_type": "code",
   "execution_count": 20,
   "metadata": {},
   "outputs": [
    {
     "data": {
      "text/plain": [
       "(1540386, 39)"
      ]
     },
     "execution_count": 20,
     "metadata": {},
     "output_type": "execute_result"
    }
   ],
   "source": [
    "# Filter out data that is not PT.AD (Direct Award)\n",
    "data_PT_AD_1 = data_redf[data_redf[\"PT.AD\"] == 1]\n",
    "\n",
    "# Group by DepID and count the number of PT.AD to determine the total number of Direct Awards per institution and year\n",
    "data_PT_AD_1 = data_PT_AD_1.groupby(['DepID', 'PT.AD', 'Year'])['PT.AD'].count().reset_index(name='Total_AD_DepID')\n",
    "\n",
    "# Remove the PT.AD column\n",
    "data_PT_AD_1.drop(['PT.AD'], axis=1, inplace=True)\n",
    "\n",
    "# This table tells us the number of bids per department and year.\n",
    "# Group by DepID and Year.\n",
    "DepID_tot = data_redf.groupby(['DepID', 'Year']).count()\n",
    "\n",
    "# Reset the index\n",
    "DepID_tot.reset_index(inplace=True)\n",
    "\n",
    "# Remove the unwanted columns\n",
    "DepID_tot = DepID_tot[['DepID', 'Year', 'Status']]\n",
    "\n",
    "# Rename the Status column to Tot_DepID_per_Year\n",
    "DepID_tot = DepID_tot.rename(columns={'Status': 'Tot_DepID_per_Year'})\n",
    "\n",
    "# Merge the two tables\n",
    "DepID_AD = pd.merge(data_PT_AD_1, DepID_tot, on=['DepID', 'Year'], how='left')\n",
    "\n",
    "# Create a new column that represents the percentage of Direct Awards per department and year\n",
    "DepID_AD = DepID_AD.assign(FSBG=lambda x: x.Total_AD_DepID / x.Tot_DepID_per_Year)\n",
    "\n",
    "# Remove the unwanted columns\n",
    "DepID_AD = DepID_AD.drop(['Total_AD_DepID', 'Tot_DepID_per_Year'], axis=1)\n",
    "\n",
    "# Merge the previous table with the original data table\n",
    "data_redf = pd.merge(data_redf, DepID_AD, on=['DepID', 'Year'], how='left')\n",
    "\n",
    "# Replace NaN values with 0\n",
    "data_redf[\"FSBG\"] = data_redf[\"FSBG\"].fillna(0)\n",
    "\n",
    "data_redf.shape\n",
    "\n"
   ]
  },
  {
   "attachments": {},
   "cell_type": "markdown",
   "metadata": {},
   "source": [
    "•\tPercentage of non-open procedures by supplier"
   ]
  },
  {
   "cell_type": "code",
   "execution_count": 21,
   "metadata": {},
   "outputs": [
    {
     "data": {
      "text/plain": [
       "(1540386, 40)"
      ]
     },
     "execution_count": 21,
     "metadata": {},
     "output_type": "execute_result"
    }
   ],
   "source": [
    "# Using the same PT.AD filter, we perform the same process but with ProvContID\n",
    "data_PT_AD_1 = data_redf[data_redf[\"PT.AD\"] == 1]\n",
    "\n",
    "# Group by ProvContID and count the number of PT.AD to determine the total number of Direct Awards per provider and year\n",
    "ProcContID_PT_AD_Tot = data_PT_AD_1.groupby(['ProvContID', 'PT.AD', 'Year'])['PT.AD'].count().reset_index(name='Total_AD_ProvContID')\n",
    "\n",
    "# Remove the PT.AD column\n",
    "ProcContID_PT_AD_Tot.drop(['PT.AD'], axis=1, inplace=True)\n",
    "\n",
    "# This table tells us the number of bids per provider and year.\n",
    "# Group by ProvContID and Year.\n",
    "ProvContID_tot = data_redf.groupby(['ProvContID', 'Year']).count()\n",
    "\n",
    "# Reset the index\n",
    "ProvContID_tot.reset_index(inplace=True)\n",
    "\n",
    "# Remove the unwanted columns\n",
    "ProvContID_tot = ProvContID_tot[['ProvContID', 'Year', 'Status']]\n",
    "\n",
    "# Rename the Status column to Num_ProvContID_per_Year\n",
    "ProvContID_tot = ProvContID_tot.rename(columns={'Status': 'Num_ProvContID_per_Year'})\n",
    "\n",
    "# Merge the two tables\n",
    "data = pd.merge(ProcContID_PT_AD_Tot, ProvContID_tot, on=['ProvContID', 'Year'], how='left')\n",
    "\n",
    "# Create a new column that represents the percentage of Direct Awards per provider and year\n",
    "data[\"F_NonOpen_ProvCont\"] = data[\"Total_AD_ProvContID\"] / data[\"Num_ProvContID_per_Year\"]\n",
    "\n",
    "# Drop the unwanted columns\n",
    "data = data.drop(['Total_AD_ProvContID', 'Num_ProvContID_per_Year'], axis=1)\n",
    "\n",
    "# Merge the previous table with the original data table\n",
    "data_redf = pd.merge(data_redf, data, on=['ProvContID', 'Year'], how='left')\n",
    "\n",
    "# Remove the unwanted columns\n",
    "# data_redf = data_redf.drop(['Total_AD_ProvContID', \"Num_AD_ProvContID_per_Year_y\"], axis=1)\n",
    "\n",
    "# Replace NaN values with 0\n",
    "data_redf[\"F_NonOpen_ProvCont\"] = data_redf[\"F_NonOpen_ProvCont\"].fillna(0)\n",
    "\n",
    "data_redf.shape\n",
    "\n"
   ]
  },
  {
   "attachments": {},
   "cell_type": "markdown",
   "metadata": {},
   "source": [
    "•\tFrequency of contracts won: "
   ]
  },
  {
   "cell_type": "code",
   "execution_count": 22,
   "metadata": {},
   "outputs": [
    {
     "data": {
      "text/plain": [
       "(1540386, 41)"
      ]
     },
     "execution_count": 22,
     "metadata": {},
     "output_type": "execute_result"
    }
   ],
   "source": [
    "# Create a pivot table to determine the number of contracts per department and year\n",
    "ProvContID_perYear = data_redf.groupby(['DepID', 'Year', 'ProvContID'])['ProvContID'].count().reset_index(name='Total_ProvContID')\n",
    "\n",
    "# With this pivot table, we can find the maximum number of contracts per department and year\n",
    "Max_ProvContID_perYear = ProvContID_perYear.groupby(['DepID', 'Year'])['Total_ProvContID'].agg(max).reset_index(name='Max_Total_ProvContID')\n",
    "\n",
    "# Merge the two tables\n",
    "data2 = pd.merge(ProvContID_perYear, Max_ProvContID_perYear, on=['DepID', 'Year'], how='left')\n",
    "\n",
    "# Create a new column that represents the percentage of contracts won by department and year\n",
    "data2[\"F_of_Contr_Won_IMCO\"] = (data2[\"Total_ProvContID\"] * 100) / data2[\"Max_Total_ProvContID\"]\n",
    "\n",
    "# Remove the unwanted columns\n",
    "data2.drop(['Total_ProvContID', 'Max_Total_ProvContID'], axis=1, inplace=True)\n",
    "\n",
    "# Merge the previous table with the original data table\n",
    "data_redf = pd.merge(data_redf, data2, on=['DepID', 'Year', 'ProvContID'], how='left')\n",
    "\n",
    "# Uncomment the line below if you want to fill the NaN values with 0\n",
    "# data_redf[\"Freq_of_Contr_Won_IMCO\"] = data_redf[\"Freq_of_Contr_Won_IMCO\"].fillna(0)\n",
    "\n",
    "data_redf.shape\n",
    "\n"
   ]
  },
  {
   "attachments": {},
   "cell_type": "markdown",
   "metadata": {},
   "source": [
    "•\tAmount of Contracted by the supplier"
   ]
  },
  {
   "cell_type": "code",
   "execution_count": 23,
   "metadata": {},
   "outputs": [
    {
     "data": {
      "text/plain": [
       "(1540386, 42)"
      ]
     },
     "execution_count": 23,
     "metadata": {},
     "output_type": "execute_result"
    }
   ],
   "source": [
    "# Create a pivot table to determine the total spending per department, company, and year\n",
    "Sum_Spend = data_redf.groupby(['DepID', 'Year', 'ProvContID'])['Spending'].sum().reset_index(name='Spending')\n",
    "\n",
    "# Create a pivot table to determine the maximum spending per department and year\n",
    "Sum_Spend_max = Sum_Spend.groupby(['DepID', 'Year'])['Spending'].max().reset_index(name='Max_Spending')\n",
    "\n",
    "# Merge the two tables\n",
    "data3 = pd.merge(Sum_Spend, Sum_Spend_max, on=['DepID', 'Year'], how='left')\n",
    "\n",
    "# Create a new column that represents the standardized total amount of contracts for company i in year t, awarded by company d\n",
    "data3[\"Am_Cont_by_Sup\"] = (data3[\"Spending\"] * 100) / data3[\"Max_Spending\"]\n",
    "\n",
    "# Remove the unwanted columns\n",
    "data3.drop(['Spending', 'Max_Spending'], axis=1, inplace=True)\n",
    "\n",
    "# Merge the previous table with the original data table\n",
    "data_redf = pd.merge(data_redf, data3, on=['DepID', 'Year', 'ProvContID'], how='left')\n",
    "\n",
    "data_redf.shape"
   ]
  },
  {
   "cell_type": "code",
   "execution_count": 24,
   "metadata": {},
   "outputs": [],
   "source": [
    "# Define the columns to keep\n",
    "features = ['Status', 'GO.APF', 'GO.GE', 'GO.GM', 'PC.N', 'PC.I', 'PC.ITLC', 'CT.OP', 'CT.S', 'CT.ADQ', 'CT.AR', 'CT.SLAOP', 'PT.AD', 'PT.I3P', 'PT.LP', 'S.NOM', 'S.MED', 'S.PEQ', 'S.MIC', 'S.NA', 'Year', 'BeginningWeek', 'EndingWeek', 'EBWeeks', 'Spending', 'T.Cont', 'T.Cont.Max', 'T.Spending', 'T.Spending.Max', 'T.AD', 'ActiveWeeks', 'CPW', 'SPW', 'Fav', 'RAD', 'PSC', 'FSBG', 'F_NonOpen_ProvCont', 'F_of_Contr_Won_IMCO', 'Am_Cont_by_Sup']\n",
    "\n",
    "# Keep only the selected columns in the data_redf DataFrame\n",
    "data_redf = data_redf[features]\n",
    "\n"
   ]
  },
  {
   "cell_type": "code",
   "execution_count": 28,
   "metadata": {},
   "outputs": [],
   "source": [
    "data_normal.to_csv(\"RPS_N.csv\")\n",
    "data_redf.to_csv(\"RPS_RedFlags.csv\")"
   ]
  },
  {
   "cell_type": "code",
   "execution_count": 29,
   "metadata": {},
   "outputs": [
    {
     "name": "stdout",
     "output_type": "stream",
     "text": [
      "(1540386, 34)\n",
      "(1540386, 40)\n"
     ]
    }
   ],
   "source": [
    "# Save data_normal as RPS_N.csv\n",
    "data_normal.to_csv(\"RPS_N.csv\", index=False)\n",
    "\n",
    "# Save data_redf as RPS_RedFlags.csv\n",
    "data_redf.to_csv(\"RPS_RedFlags.csv\", index=False)\n"
   ]
  }
 ],
 "metadata": {
  "kernelspec": {
   "display_name": ".venv",
   "language": "python",
   "name": "python3"
  },
  "language_info": {
   "codemirror_mode": {
    "name": "ipython",
    "version": 3
   },
   "file_extension": ".py",
   "mimetype": "text/x-python",
   "name": "python",
   "nbconvert_exporter": "python",
   "pygments_lexer": "ipython3",
   "version": "3.11.3"
  },
  "orig_nbformat": 4
 },
 "nbformat": 4,
 "nbformat_minor": 2
}
